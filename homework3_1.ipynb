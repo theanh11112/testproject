{
 "cells": [
  {
   "cell_type": "code",
   "execution_count": 1,
   "metadata": {},
   "outputs": [],
   "source": [
    "import numpy as np \n",
    "import openpyxl\n"
   ]
  },
  {
   "cell_type": "code",
   "execution_count": 2,
   "metadata": {},
   "outputs": [],
   "source": [
    "workbook = openpyxl.load_workbook(\"68IT1.xlsx\")"
   ]
  },
  {
   "cell_type": "code",
   "execution_count": 3,
   "metadata": {},
   "outputs": [],
   "source": [
    "sheet = workbook.active"
   ]
  },
  {
   "cell_type": "code",
   "execution_count": 26,
   "metadata": {},
   "outputs": [],
   "source": [
    "column1 = 'G'\n",
    "column2 = 'H'\n",
    "column3 = 'I'"
   ]
  },
  {
   "cell_type": "code",
   "execution_count": 5,
   "metadata": {},
   "outputs": [],
   "source": [
    "start_row = 11\n",
    "end_row = 65"
   ]
  },
  {
   "cell_type": "code",
   "execution_count": 27,
   "metadata": {},
   "outputs": [],
   "source": [
    "X1 = np.array([])\n",
    "Y1 = np.array([])\n",
    "Z1 = np.array([])"
   ]
  },
  {
   "cell_type": "code",
   "execution_count": 7,
   "metadata": {},
   "outputs": [
    {
     "data": {
      "text/plain": [
       "array([4.5, 6.0, 7.5, 4.0, 6.5, 7.5, 8.5, 6.0, 5.0, 8.0, 2.0, 5.0, 6.0,\n",
       "       9.0, 5.5, 8.5, 4.0, None, 4.5, 6, 7, 8, 0.5, 3, 5, 7, 6, 4, 5, 4.5,\n",
       "       5.5, 4, 7, None, 4, 2.5, 9.5, 8, 4, 6, 7.5, None, 10, 3, 6.5, 6,\n",
       "       8.5, 2.5, 7, 6.5, 5, 3, 5, 7, 4.5], dtype=object)"
      ]
     },
     "execution_count": 7,
     "metadata": {},
     "output_type": "execute_result"
    }
   ],
   "source": [
    "for row in range(start_row , end_row + 1):\n",
    "    X = sheet[f'{column1}{row}'].value\n",
    "    X1 = np.append(X1 , X)\n",
    "X1"
   ]
  },
  {
   "cell_type": "code",
   "execution_count": 8,
   "metadata": {},
   "outputs": [
    {
     "data": {
      "text/plain": [
       "array([9.5, 6.0, 9.0, 10.0, 5.0, 0.0, 7.5, 8.0, 8.5, 8.0, 4.0, 7.0, 8.0,\n",
       "       8.0, 10.0, 10.0, 4.5, None, 6.5, 7.5, 8, 3, 3, 5.5, 8, 9.5, 6, 9,\n",
       "       4.5, 5, 7, 2, 7, 4.5, None, 7, 9.5, 7.5, 4.5, 8, 5, None, 4, 7, 10,\n",
       "       3.5, 8.5, 2.5, 10, 9, 8, 7.5, 7, 10, 7.5], dtype=object)"
      ]
     },
     "execution_count": 8,
     "metadata": {},
     "output_type": "execute_result"
    }
   ],
   "source": [
    "for row in range(start_row , end_row + 1):\n",
    "    Y = sheet[f'{column2}{row}'].value\n",
    "    Y1 = np.append(Y1 , Y)\n",
    "Y1"
   ]
  },
  {
   "cell_type": "code",
   "execution_count": 28,
   "metadata": {},
   "outputs": [
    {
     "data": {
      "text/plain": [
       "array([2.5, 2.0, 4.5, 3.0, 0.5, None, 8, 4, 1.5, 3.5, 3.5, 7, 7, 4.5, 6.5,\n",
       "       9.5, 7, None, 2.5, 2.5, 8, 7.5, 3.5, 0, 2.5, 6, 2, 1.5, 4.5, 1,\n",
       "       2.5, 0.5, 0.5, None, 0.5, 1, 8.5, 8.5, 0, 6.5, 4, 0, 5.5, 1.5, 7,\n",
       "       6.5, 7.5, 2, 5, 7, 7.5, 1, 5, 6.5, 5], dtype=object)"
      ]
     },
     "execution_count": 28,
     "metadata": {},
     "output_type": "execute_result"
    }
   ],
   "source": [
    "for row in range(start_row , end_row + 1):\n",
    "    Z = sheet[f'{column3}{row}'].value\n",
    "    Z1 = np.append(Z1 , Z)\n",
    "Z1"
   ]
  },
  {
   "cell_type": "code",
   "execution_count": null,
   "metadata": {},
   "outputs": [],
   "source": []
  },
  {
   "cell_type": "code",
   "execution_count": 9,
   "metadata": {},
   "outputs": [
    {
     "data": {
      "text/plain": [
       "array([[9.5],\n",
       "       [6.0],\n",
       "       [9.0],\n",
       "       [10.0],\n",
       "       [5.0],\n",
       "       [0.0],\n",
       "       [7.5],\n",
       "       [8.0],\n",
       "       [8.5],\n",
       "       [8.0],\n",
       "       [4.0],\n",
       "       [7.0],\n",
       "       [8.0],\n",
       "       [8.0],\n",
       "       [10.0],\n",
       "       [10.0],\n",
       "       [4.5],\n",
       "       [None],\n",
       "       [6.5],\n",
       "       [7.5],\n",
       "       [8],\n",
       "       [3],\n",
       "       [3],\n",
       "       [5.5],\n",
       "       [8],\n",
       "       [9.5],\n",
       "       [6],\n",
       "       [9],\n",
       "       [4.5],\n",
       "       [5],\n",
       "       [7],\n",
       "       [2],\n",
       "       [7],\n",
       "       [4.5],\n",
       "       [None],\n",
       "       [7],\n",
       "       [9.5],\n",
       "       [7.5],\n",
       "       [4.5],\n",
       "       [8],\n",
       "       [5],\n",
       "       [None],\n",
       "       [4],\n",
       "       [7],\n",
       "       [10],\n",
       "       [3.5],\n",
       "       [8.5],\n",
       "       [2.5],\n",
       "       [10],\n",
       "       [9],\n",
       "       [8],\n",
       "       [7.5],\n",
       "       [7],\n",
       "       [10],\n",
       "       [7.5]], dtype=object)"
      ]
     },
     "execution_count": 9,
     "metadata": {},
     "output_type": "execute_result"
    }
   ],
   "source": [
    "Y_expand = np.expand_dims(Y1 , axis = 1)\n",
    "Y_expand"
   ]
  },
  {
   "cell_type": "code",
   "execution_count": 10,
   "metadata": {},
   "outputs": [
    {
     "data": {
      "text/plain": [
       "array([[4.5],\n",
       "       [6.0],\n",
       "       [7.5],\n",
       "       [4.0],\n",
       "       [6.5],\n",
       "       [7.5],\n",
       "       [8.5],\n",
       "       [6.0],\n",
       "       [5.0],\n",
       "       [8.0],\n",
       "       [2.0],\n",
       "       [5.0],\n",
       "       [6.0],\n",
       "       [9.0],\n",
       "       [5.5],\n",
       "       [8.5],\n",
       "       [4.0],\n",
       "       [None],\n",
       "       [4.5],\n",
       "       [6],\n",
       "       [7],\n",
       "       [8],\n",
       "       [0.5],\n",
       "       [3],\n",
       "       [5],\n",
       "       [7],\n",
       "       [6],\n",
       "       [4],\n",
       "       [5],\n",
       "       [4.5],\n",
       "       [5.5],\n",
       "       [4],\n",
       "       [7],\n",
       "       [None],\n",
       "       [4],\n",
       "       [2.5],\n",
       "       [9.5],\n",
       "       [8],\n",
       "       [4],\n",
       "       [6],\n",
       "       [7.5],\n",
       "       [None],\n",
       "       [10],\n",
       "       [3],\n",
       "       [6.5],\n",
       "       [6],\n",
       "       [8.5],\n",
       "       [2.5],\n",
       "       [7],\n",
       "       [6.5],\n",
       "       [5],\n",
       "       [3],\n",
       "       [5],\n",
       "       [7],\n",
       "       [4.5]], dtype=object)"
      ]
     },
     "execution_count": 10,
     "metadata": {},
     "output_type": "execute_result"
    }
   ],
   "source": [
    "X_expand = np.expand_dims(X1 , axis = 1)\n",
    "X_expand"
   ]
  },
  {
   "cell_type": "code",
   "execution_count": 11,
   "metadata": {},
   "outputs": [
    {
     "data": {
      "text/plain": [
       "array([[4.5, 9.5],\n",
       "       [6.0, 6.0],\n",
       "       [7.5, 9.0],\n",
       "       [4.0, 10.0],\n",
       "       [6.5, 5.0],\n",
       "       [7.5, 0.0],\n",
       "       [8.5, 7.5],\n",
       "       [6.0, 8.0],\n",
       "       [5.0, 8.5],\n",
       "       [8.0, 8.0],\n",
       "       [2.0, 4.0],\n",
       "       [5.0, 7.0],\n",
       "       [6.0, 8.0],\n",
       "       [9.0, 8.0],\n",
       "       [5.5, 10.0],\n",
       "       [8.5, 10.0],\n",
       "       [4.0, 4.5],\n",
       "       [None, None],\n",
       "       [4.5, 6.5],\n",
       "       [6, 7.5],\n",
       "       [7, 8],\n",
       "       [8, 3],\n",
       "       [0.5, 3],\n",
       "       [3, 5.5],\n",
       "       [5, 8],\n",
       "       [7, 9.5],\n",
       "       [6, 6],\n",
       "       [4, 9],\n",
       "       [5, 4.5],\n",
       "       [4.5, 5],\n",
       "       [5.5, 7],\n",
       "       [4, 2],\n",
       "       [7, 7],\n",
       "       [None, 4.5],\n",
       "       [4, None],\n",
       "       [2.5, 7],\n",
       "       [9.5, 9.5],\n",
       "       [8, 7.5],\n",
       "       [4, 4.5],\n",
       "       [6, 8],\n",
       "       [7.5, 5],\n",
       "       [None, None],\n",
       "       [10, 4],\n",
       "       [3, 7],\n",
       "       [6.5, 10],\n",
       "       [6, 3.5],\n",
       "       [8.5, 8.5],\n",
       "       [2.5, 2.5],\n",
       "       [7, 10],\n",
       "       [6.5, 9],\n",
       "       [5, 8],\n",
       "       [3, 7.5],\n",
       "       [5, 7],\n",
       "       [7, 10],\n",
       "       [4.5, 7.5]], dtype=object)"
      ]
     },
     "execution_count": 11,
     "metadata": {},
     "output_type": "execute_result"
    }
   ],
   "source": [
    "Z = np.concatenate((X_expand , Y_expand) , axis = 1)\n",
    "Z"
   ]
  },
  {
   "cell_type": "code",
   "execution_count": 12,
   "metadata": {},
   "outputs": [
    {
     "data": {
      "text/plain": [
       "array([[4.5, 9.5],\n",
       "       [6.0, 6.0],\n",
       "       [7.5, 9.0],\n",
       "       [4.0, 10.0],\n",
       "       [6.5, 5.0],\n",
       "       [7.5, 0.0],\n",
       "       [8.5, 7.5],\n",
       "       [6.0, 8.0],\n",
       "       [5.0, 8.5],\n",
       "       [8.0, 8.0],\n",
       "       [2.0, 4.0],\n",
       "       [5.0, 7.0],\n",
       "       [6.0, 8.0],\n",
       "       [9.0, 8.0],\n",
       "       [5.5, 10.0],\n",
       "       [8.5, 10.0],\n",
       "       [4.0, 4.5],\n",
       "       [4.5, 6.5],\n",
       "       [6, 7.5],\n",
       "       [7, 8],\n",
       "       [8, 3],\n",
       "       [0.5, 3],\n",
       "       [3, 5.5],\n",
       "       [5, 8],\n",
       "       [7, 9.5],\n",
       "       [6, 6],\n",
       "       [4, 9],\n",
       "       [5, 4.5],\n",
       "       [4.5, 5],\n",
       "       [5.5, 7],\n",
       "       [4, 2],\n",
       "       [7, 7],\n",
       "       [2.5, 7],\n",
       "       [9.5, 9.5],\n",
       "       [8, 7.5],\n",
       "       [4, 4.5],\n",
       "       [6, 8],\n",
       "       [7.5, 5],\n",
       "       [10, 4],\n",
       "       [3, 7],\n",
       "       [6.5, 10],\n",
       "       [6, 3.5],\n",
       "       [8.5, 8.5],\n",
       "       [2.5, 2.5],\n",
       "       [7, 10],\n",
       "       [6.5, 9],\n",
       "       [5, 8],\n",
       "       [3, 7.5],\n",
       "       [5, 7],\n",
       "       [7, 10],\n",
       "       [4.5, 7.5]], dtype=object)"
      ]
     },
     "execution_count": 12,
     "metadata": {},
     "output_type": "execute_result"
    }
   ],
   "source": [
    "Z1 = np.array([row for row in Z if None not in row])\n",
    "Z1"
   ]
  },
  {
   "cell_type": "code",
   "execution_count": 13,
   "metadata": {},
   "outputs": [],
   "source": [
    "X = np.array([row[0] for row in Z1])  # Lấy cột 1\n",
    "Y = np.array([row[1] for row in Z1])  # Lấy cột 2"
   ]
  },
  {
   "cell_type": "code",
   "execution_count": 14,
   "metadata": {},
   "outputs": [
    {
     "data": {
      "text/plain": [
       "array([[ 4.5],\n",
       "       [ 6. ],\n",
       "       [ 7.5],\n",
       "       [ 4. ],\n",
       "       [ 6.5],\n",
       "       [ 7.5],\n",
       "       [ 8.5],\n",
       "       [ 6. ],\n",
       "       [ 5. ],\n",
       "       [ 8. ],\n",
       "       [ 2. ],\n",
       "       [ 5. ],\n",
       "       [ 6. ],\n",
       "       [ 9. ],\n",
       "       [ 5.5],\n",
       "       [ 8.5],\n",
       "       [ 4. ],\n",
       "       [ 4.5],\n",
       "       [ 6. ],\n",
       "       [ 7. ],\n",
       "       [ 8. ],\n",
       "       [ 0.5],\n",
       "       [ 3. ],\n",
       "       [ 5. ],\n",
       "       [ 7. ],\n",
       "       [ 6. ],\n",
       "       [ 4. ],\n",
       "       [ 5. ],\n",
       "       [ 4.5],\n",
       "       [ 5.5],\n",
       "       [ 4. ],\n",
       "       [ 7. ],\n",
       "       [ 2.5],\n",
       "       [ 9.5],\n",
       "       [ 8. ],\n",
       "       [ 4. ],\n",
       "       [ 6. ],\n",
       "       [ 7.5],\n",
       "       [10. ],\n",
       "       [ 3. ],\n",
       "       [ 6.5],\n",
       "       [ 6. ],\n",
       "       [ 8.5],\n",
       "       [ 2.5],\n",
       "       [ 7. ],\n",
       "       [ 6.5],\n",
       "       [ 5. ],\n",
       "       [ 3. ],\n",
       "       [ 5. ],\n",
       "       [ 7. ],\n",
       "       [ 4.5]])"
      ]
     },
     "execution_count": 14,
     "metadata": {},
     "output_type": "execute_result"
    }
   ],
   "source": [
    "X = X.reshape(-1,1)\n",
    "X"
   ]
  },
  {
   "cell_type": "code",
   "execution_count": 15,
   "metadata": {},
   "outputs": [
    {
     "data": {
      "text/plain": [
       "array([[ 9.5],\n",
       "       [ 6. ],\n",
       "       [ 9. ],\n",
       "       [10. ],\n",
       "       [ 5. ],\n",
       "       [ 0. ],\n",
       "       [ 7.5],\n",
       "       [ 8. ],\n",
       "       [ 8.5],\n",
       "       [ 8. ],\n",
       "       [ 4. ],\n",
       "       [ 7. ],\n",
       "       [ 8. ],\n",
       "       [ 8. ],\n",
       "       [10. ],\n",
       "       [10. ],\n",
       "       [ 4.5],\n",
       "       [ 6.5],\n",
       "       [ 7.5],\n",
       "       [ 8. ],\n",
       "       [ 3. ],\n",
       "       [ 3. ],\n",
       "       [ 5.5],\n",
       "       [ 8. ],\n",
       "       [ 9.5],\n",
       "       [ 6. ],\n",
       "       [ 9. ],\n",
       "       [ 4.5],\n",
       "       [ 5. ],\n",
       "       [ 7. ],\n",
       "       [ 2. ],\n",
       "       [ 7. ],\n",
       "       [ 7. ],\n",
       "       [ 9.5],\n",
       "       [ 7.5],\n",
       "       [ 4.5],\n",
       "       [ 8. ],\n",
       "       [ 5. ],\n",
       "       [ 4. ],\n",
       "       [ 7. ],\n",
       "       [10. ],\n",
       "       [ 3.5],\n",
       "       [ 8.5],\n",
       "       [ 2.5],\n",
       "       [10. ],\n",
       "       [ 9. ],\n",
       "       [ 8. ],\n",
       "       [ 7.5],\n",
       "       [ 7. ],\n",
       "       [10. ],\n",
       "       [ 7.5]])"
      ]
     },
     "execution_count": 15,
     "metadata": {},
     "output_type": "execute_result"
    }
   ],
   "source": [
    "Y = Y.reshape(-1,1)\n",
    "Y"
   ]
  },
  {
   "cell_type": "code",
   "execution_count": 16,
   "metadata": {},
   "outputs": [],
   "source": [
    "n =len(X)"
   ]
  },
  {
   "cell_type": "code",
   "execution_count": 17,
   "metadata": {},
   "outputs": [],
   "source": [
    "n_train = 40\n",
    "n_test = 11"
   ]
  },
  {
   "cell_type": "code",
   "execution_count": 18,
   "metadata": {},
   "outputs": [
    {
     "data": {
      "text/plain": [
       "array([26, 39, 12, 44, 46, 30, 38, 29, 21, 46, 25,  3, 49, 17, 31, 50,  2,\n",
       "       31, 14, 14, 37, 15, 24, 41, 46, 21, 38,  5, 27, 29, 19, 17, 14, 38,\n",
       "       11, 34, 21, 37,  2, 43])"
      ]
     },
     "execution_count": 18,
     "metadata": {},
     "output_type": "execute_result"
    }
   ],
   "source": [
    "index_train = np.random.choice(range(n) ,n_train,replace=True )\n",
    "index_train"
   ]
  },
  {
   "cell_type": "code",
   "execution_count": 19,
   "metadata": {},
   "outputs": [
    {
     "name": "stderr",
     "output_type": "stream",
     "text": [
      "C:\\Users\\DELL\\AppData\\Local\\Temp\\ipykernel_13388\\2489936020.py:1: DeprecationWarning: Conversion of an array with ndim > 0 to a scalar is deprecated, and will error in future. Ensure you extract a single element from your array before performing this operation. (Deprecated NumPy 1.25.)\n",
      "  X_train = np.array([float(X[i]) for i in index_train])\n"
     ]
    },
    {
     "data": {
      "text/plain": [
       "array([ 4. ,  3. ,  6. ,  7. ,  5. ,  4. , 10. ,  5.5,  0.5,  5. ,  6. ,\n",
       "        4. ,  7. ,  4.5,  7. ,  4.5,  7.5,  7. ,  5.5,  5.5,  7.5,  8.5,\n",
       "        7. ,  6. ,  5. ,  0.5, 10. ,  7.5,  5. ,  5.5,  7. ,  4.5,  5.5,\n",
       "       10. ,  5. ,  8. ,  0.5,  7.5,  7.5,  2.5])"
      ]
     },
     "execution_count": 19,
     "metadata": {},
     "output_type": "execute_result"
    }
   ],
   "source": [
    "X_train = np.array([float(X[i]) for i in index_train])\n",
    "X_train"
   ]
  },
  {
   "cell_type": "code",
   "execution_count": 20,
   "metadata": {},
   "outputs": [
    {
     "name": "stderr",
     "output_type": "stream",
     "text": [
      "C:\\Users\\DELL\\AppData\\Local\\Temp\\ipykernel_13388\\373666442.py:1: DeprecationWarning: Conversion of an array with ndim > 0 to a scalar is deprecated, and will error in future. Ensure you extract a single element from your array before performing this operation. (Deprecated NumPy 1.25.)\n",
      "  Y_train = np.array([float(Y[i]) for i in index_train])\n"
     ]
    },
    {
     "data": {
      "text/plain": [
       "array([ 9. ,  7. ,  8. , 10. ,  8. ,  2. ,  4. ,  7. ,  3. ,  8. ,  6. ,\n",
       "       10. , 10. ,  6.5,  7. ,  7.5,  9. ,  7. , 10. , 10. ,  5. , 10. ,\n",
       "        9.5,  3.5,  8. ,  3. ,  4. ,  0. ,  4.5,  7. ,  8. ,  6.5, 10. ,\n",
       "        4. ,  7. ,  7.5,  3. ,  5. ,  9. ,  2.5])"
      ]
     },
     "execution_count": 20,
     "metadata": {},
     "output_type": "execute_result"
    }
   ],
   "source": [
    "Y_train = np.array([float(Y[i]) for i in index_train])\n",
    "Y_train"
   ]
  },
  {
   "cell_type": "code",
   "execution_count": 21,
   "metadata": {},
   "outputs": [
    {
     "data": {
      "text/plain": [
       "[0,\n",
       " 1,\n",
       " 4,\n",
       " 6,\n",
       " 7,\n",
       " 8,\n",
       " 9,\n",
       " 10,\n",
       " 13,\n",
       " 16,\n",
       " 18,\n",
       " 20,\n",
       " 22,\n",
       " 23,\n",
       " 28,\n",
       " 32,\n",
       " 33,\n",
       " 35,\n",
       " 36,\n",
       " 40,\n",
       " 42,\n",
       " 45,\n",
       " 47,\n",
       " 48]"
      ]
     },
     "execution_count": 21,
     "metadata": {},
     "output_type": "execute_result"
    }
   ],
   "source": [
    "index_test = [i for i in range(n) if i not in index_train]\n",
    "index_test"
   ]
  },
  {
   "cell_type": "code",
   "execution_count": 22,
   "metadata": {},
   "outputs": [
    {
     "name": "stderr",
     "output_type": "stream",
     "text": [
      "C:\\Users\\DELL\\AppData\\Local\\Temp\\ipykernel_13388\\2908310555.py:1: DeprecationWarning: Conversion of an array with ndim > 0 to a scalar is deprecated, and will error in future. Ensure you extract a single element from your array before performing this operation. (Deprecated NumPy 1.25.)\n",
      "  X_test = np.array([float(X[i]) for i in index_test])\n"
     ]
    },
    {
     "data": {
      "text/plain": [
       "array([4.5, 6. , 6.5, 8.5, 6. , 5. , 8. , 2. , 9. , 4. , 6. , 8. , 3. ,\n",
       "       5. , 4.5, 2.5, 9.5, 4. , 6. , 6.5, 8.5, 6.5, 3. , 5. ])"
      ]
     },
     "execution_count": 22,
     "metadata": {},
     "output_type": "execute_result"
    }
   ],
   "source": [
    "X_test = np.array([float(X[i]) for i in index_test])\n",
    "X_test"
   ]
  },
  {
   "cell_type": "code",
   "execution_count": 23,
   "metadata": {},
   "outputs": [
    {
     "name": "stderr",
     "output_type": "stream",
     "text": [
      "C:\\Users\\DELL\\AppData\\Local\\Temp\\ipykernel_13388\\3796745084.py:1: DeprecationWarning: Conversion of an array with ndim > 0 to a scalar is deprecated, and will error in future. Ensure you extract a single element from your array before performing this operation. (Deprecated NumPy 1.25.)\n",
      "  Y_test = np.array([float(X[i]) for i in index_test])\n"
     ]
    },
    {
     "data": {
      "text/plain": [
       "array([4.5, 6. , 6.5, 8.5, 6. , 5. , 8. , 2. , 9. , 4. , 6. , 8. , 3. ,\n",
       "       5. , 4.5, 2.5, 9.5, 4. , 6. , 6.5, 8.5, 6.5, 3. , 5. ])"
      ]
     },
     "execution_count": 23,
     "metadata": {},
     "output_type": "execute_result"
    }
   ],
   "source": [
    "Y_test = np.array([float(X[i]) for i in index_test])\n",
    "Y_test"
   ]
  },
  {
   "cell_type": "code",
   "execution_count": 24,
   "metadata": {},
   "outputs": [
    {
     "data": {
      "text/plain": [
       "array([[ 4. ],\n",
       "       [ 3. ],\n",
       "       [ 6. ],\n",
       "       [ 7. ],\n",
       "       [ 5. ],\n",
       "       [ 4. ],\n",
       "       [10. ],\n",
       "       [ 5.5],\n",
       "       [ 0.5],\n",
       "       [ 5. ],\n",
       "       [ 6. ],\n",
       "       [ 4. ],\n",
       "       [ 7. ],\n",
       "       [ 4.5],\n",
       "       [ 7. ],\n",
       "       [ 4.5],\n",
       "       [ 7.5],\n",
       "       [ 7. ],\n",
       "       [ 5.5],\n",
       "       [ 5.5],\n",
       "       [ 7.5],\n",
       "       [ 8.5],\n",
       "       [ 7. ],\n",
       "       [ 6. ],\n",
       "       [ 5. ],\n",
       "       [ 0.5],\n",
       "       [10. ],\n",
       "       [ 7.5],\n",
       "       [ 5. ],\n",
       "       [ 5.5],\n",
       "       [ 7. ],\n",
       "       [ 4.5],\n",
       "       [ 5.5],\n",
       "       [10. ],\n",
       "       [ 5. ],\n",
       "       [ 8. ],\n",
       "       [ 0.5],\n",
       "       [ 7.5],\n",
       "       [ 7.5],\n",
       "       [ 2.5]])"
      ]
     },
     "execution_count": 24,
     "metadata": {},
     "output_type": "execute_result"
    }
   ],
   "source": [
    "X_expand = np.expand_dims(X_train , axis = 1)\n",
    "X_expand"
   ]
  },
  {
   "cell_type": "code",
   "execution_count": 25,
   "metadata": {},
   "outputs": [
    {
     "data": {
      "text/plain": [
       "array([[ 9. ],\n",
       "       [ 7. ],\n",
       "       [ 8. ],\n",
       "       [10. ],\n",
       "       [ 8. ],\n",
       "       [ 2. ],\n",
       "       [ 4. ],\n",
       "       [ 7. ],\n",
       "       [ 3. ],\n",
       "       [ 8. ],\n",
       "       [ 6. ],\n",
       "       [10. ],\n",
       "       [10. ],\n",
       "       [ 6.5],\n",
       "       [ 7. ],\n",
       "       [ 7.5],\n",
       "       [ 9. ],\n",
       "       [ 7. ],\n",
       "       [10. ],\n",
       "       [10. ],\n",
       "       [ 5. ],\n",
       "       [10. ],\n",
       "       [ 9.5],\n",
       "       [ 3.5],\n",
       "       [ 8. ],\n",
       "       [ 3. ],\n",
       "       [ 4. ],\n",
       "       [ 0. ],\n",
       "       [ 4.5],\n",
       "       [ 7. ],\n",
       "       [ 8. ],\n",
       "       [ 6.5],\n",
       "       [10. ],\n",
       "       [ 4. ],\n",
       "       [ 7. ],\n",
       "       [ 7.5],\n",
       "       [ 3. ],\n",
       "       [ 5. ],\n",
       "       [ 9. ],\n",
       "       [ 2.5]])"
      ]
     },
     "execution_count": 25,
     "metadata": {},
     "output_type": "execute_result"
    }
   ],
   "source": [
    "Y_expand = np.expand_dims(Y_train , axis = 1)\n",
    "Y_expand"
   ]
  },
  {
   "cell_type": "code",
   "execution_count": null,
   "metadata": {},
   "outputs": [],
   "source": []
  }
 ],
 "metadata": {
  "kernelspec": {
   "display_name": "Python 3",
   "language": "python",
   "name": "python3"
  },
  "language_info": {
   "codemirror_mode": {
    "name": "ipython",
    "version": 3
   },
   "file_extension": ".py",
   "mimetype": "text/x-python",
   "name": "python",
   "nbconvert_exporter": "python",
   "pygments_lexer": "ipython3",
   "version": "3.12.6"
  }
 },
 "nbformat": 4,
 "nbformat_minor": 2
}
