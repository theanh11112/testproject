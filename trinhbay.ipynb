{
 "cells": [
  {
   "cell_type": "code",
   "execution_count": 10,
   "metadata": {},
   "outputs": [
    {
     "name": "stdout",
     "output_type": "stream",
     "text": [
      "Mean Squared Error: 0.29919524470499\n",
      "R^2 Score: 0.5084494508378135\n",
      "Số lần lặp: 4\n",
      "Hệ số hồi quy (coef_): [ 0.56338237 -0.         -1.21891361  0.          0.          0.\n",
      "  0.         -0.          0.          0.        ]\n",
      "Hệ số chặn (intercept_): 0.867138727450695\n",
      "Các đặc trưng được chọn (coef khác 0): [0 2]\n"
     ]
    }
   ],
   "source": [
    "import numpy as np\n",
    "from sklearn.linear_model import Lasso\n",
    "from sklearn.model_selection import train_test_split\n",
    "from sklearn.metrics import mean_squared_error, r2_score\n",
    "\n",
    "# Tạo dữ liệu giả lập\n",
    "np.random.seed(42)\n",
    "X = np.random.rand(100, 10)  # 100 mẫu, 10 đặc trưng\n",
    "true_coef = np.array([1.5, 0, -2.0, 0, 0.5, 0, 0, 0, 1.0, 0])  # Hệ số thực tế\n",
    "y = X.dot(true_coef) + np.random.randn(100) * 0.5  # Thêm nhiễu\n",
    "\n",
    "# Chia dữ liệu thành tập train và test\n",
    "X_train, X_test, y_train, y_test = train_test_split(X, y, test_size=0.2, random_state=42)\n",
    "\n",
    "# Khởi tạo mô hình Lasso\n",
    "lasso_model = Lasso(\n",
    "    alpha=0.1,            # Hệ số điều chỉnh L1\n",
    "    fit_intercept=True,   # Tính toán hệ số chặn (intercept)\n",
    "    precompute=False,     # Không sử dụng Gram matrix được tính sẵn\n",
    "    copy_X=True,          # Sao chép X để bảo toàn dữ liệu gốc\n",
    "    max_iter=1000,        # Số lần lặp tối đa\n",
    "    tol=0.0001,           # Ngưỡng dừng thuật toán\n",
    "    warm_start=False,     # Không khởi tạo bằng kết quả từ lần fit trước\n",
    "    positive=False,       # Không bắt buộc các hệ số phải dương\n",
    "    random_state=42,      # Đặt seed cho tính ngẫu nhiên\n",
    "    selection='cyclic'    # Cập nhật tuần tự các đặc trưng\n",
    ")\n",
    "\n",
    "# Huấn luyện mô hình\n",
    "lasso_model.fit(X_train, y_train)\n",
    "\n",
    "# Dự đoán trên tập test\n",
    "y_pred = lasso_model.predict(X_test)\n",
    "\n",
    "# Đánh giá mô hình\n",
    "mse = mean_squared_error(y_test, y_pred)\n",
    "r2 = r2_score(y_test, y_pred)\n",
    "\n",
    "print(\"Mean Squared Error:\", mse)\n",
    "print(\"R^2 Score:\", r2)\n",
    "print(\"Số lần lặp:\", lasso_model.n_iter_)\n",
    "print(\"Hệ số hồi quy (coef_):\", lasso_model.coef_)\n",
    "print(\"Hệ số chặn (intercept_):\", lasso_model.intercept_)\n",
    "\n",
    "# Hiển thị các hệ số không bằng 0\n",
    "print(\"Các đặc trưng được chọn (coef khác 0):\", np.nonzero(lasso_model.coef_)[0])\n"
   ]
  }
 ],
 "metadata": {
  "kernelspec": {
   "display_name": "Python 3",
   "language": "python",
   "name": "python3"
  },
  "language_info": {
   "codemirror_mode": {
    "name": "ipython",
    "version": 3
   },
   "file_extension": ".py",
   "mimetype": "text/x-python",
   "name": "python",
   "nbconvert_exporter": "python",
   "pygments_lexer": "ipython3",
   "version": "3.12.6"
  }
 },
 "nbformat": 4,
 "nbformat_minor": 2
}
