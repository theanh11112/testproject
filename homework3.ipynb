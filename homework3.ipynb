{
 "cells": [
  {
   "cell_type": "code",
   "execution_count": 1,
   "metadata": {},
   "outputs": [],
   "source": [
    "import openpyxl\n",
    "import numpy as np\n"
   ]
  },
  {
   "cell_type": "code",
   "execution_count": 2,
   "metadata": {},
   "outputs": [],
   "source": [
    "workbook = openpyxl.load_workbook(\"68IT1.xlsx\")"
   ]
  },
  {
   "cell_type": "code",
   "execution_count": 3,
   "metadata": {},
   "outputs": [],
   "source": [
    "sheet = workbook.active"
   ]
  },
  {
   "cell_type": "code",
   "execution_count": 4,
   "metadata": {},
   "outputs": [],
   "source": [
    "start_row = 11\n",
    "end_row = 65\n",
    "column1 = 'G'\n",
    "column2 = 'H'\n"
   ]
  },
  {
   "cell_type": "code",
   "execution_count": 5,
   "metadata": {},
   "outputs": [],
   "source": [
    "X1 = np.array([])\n",
    "Y1 = np.array([])"
   ]
  },
  {
   "cell_type": "code",
   "execution_count": 40,
   "metadata": {},
   "outputs": [
    {
     "data": {
      "text/plain": [
       "55"
      ]
     },
     "execution_count": 40,
     "metadata": {},
     "output_type": "execute_result"
    }
   ],
   "source": [
    "for row in range(start_row , end_row + 1):\n",
    "    X = sheet[f'{column1}{row}'].value\n",
    "    X1 = np.append(X1 , X)\n",
    "len(X1)\n"
   ]
  },
  {
   "cell_type": "code",
   "execution_count": 41,
   "metadata": {},
   "outputs": [
    {
     "data": {
      "text/plain": [
       "55"
      ]
     },
     "execution_count": 41,
     "metadata": {},
     "output_type": "execute_result"
    }
   ],
   "source": [
    "for row in range(start_row , end_row + 1):\n",
    "    Y = sheet[f'{column2}{row}'].value\n",
    "    Y1 = np.append(Y1 , Y)\n",
    "len(Y1)"
   ]
  },
  {
   "cell_type": "code",
   "execution_count": 42,
   "metadata": {},
   "outputs": [
    {
     "data": {
      "text/plain": [
       "array([[4.5],\n",
       "       [6.0],\n",
       "       [7.5],\n",
       "       [4.0],\n",
       "       [6.5],\n",
       "       [7.5],\n",
       "       [8.5],\n",
       "       [6.0],\n",
       "       [5.0],\n",
       "       [8.0],\n",
       "       [2.0],\n",
       "       [5.0],\n",
       "       [6.0],\n",
       "       [9.0],\n",
       "       [5.5],\n",
       "       [8.5],\n",
       "       [4.0],\n",
       "       [None],\n",
       "       [4.5],\n",
       "       [6],\n",
       "       [7],\n",
       "       [8],\n",
       "       [0.5],\n",
       "       [3],\n",
       "       [5],\n",
       "       [7],\n",
       "       [6],\n",
       "       [4],\n",
       "       [5],\n",
       "       [4.5],\n",
       "       [5.5],\n",
       "       [4],\n",
       "       [7],\n",
       "       [None],\n",
       "       [4],\n",
       "       [2.5],\n",
       "       [9.5],\n",
       "       [8],\n",
       "       [4],\n",
       "       [6],\n",
       "       [7.5],\n",
       "       [None],\n",
       "       [10],\n",
       "       [3],\n",
       "       [6.5],\n",
       "       [6],\n",
       "       [8.5],\n",
       "       [2.5],\n",
       "       [7],\n",
       "       [6.5],\n",
       "       [5],\n",
       "       [3],\n",
       "       [5],\n",
       "       [7],\n",
       "       [4.5]], dtype=object)"
      ]
     },
     "execution_count": 42,
     "metadata": {},
     "output_type": "execute_result"
    }
   ],
   "source": [
    "X2 = np.expand_dims(X1 , axis = 1)\n",
    "X2"
   ]
  },
  {
   "cell_type": "code",
   "execution_count": 44,
   "metadata": {},
   "outputs": [
    {
     "data": {
      "text/plain": [
       "array([[9.5],\n",
       "       [6.0],\n",
       "       [9.0],\n",
       "       [10.0],\n",
       "       [5.0],\n",
       "       [0.0],\n",
       "       [7.5],\n",
       "       [8.0],\n",
       "       [8.5],\n",
       "       [8.0],\n",
       "       [4.0],\n",
       "       [7.0],\n",
       "       [8.0],\n",
       "       [8.0],\n",
       "       [10.0],\n",
       "       [10.0],\n",
       "       [4.5],\n",
       "       [None],\n",
       "       [6.5],\n",
       "       [7.5],\n",
       "       [8],\n",
       "       [3],\n",
       "       [3],\n",
       "       [5.5],\n",
       "       [8],\n",
       "       [9.5],\n",
       "       [6],\n",
       "       [9],\n",
       "       [4.5],\n",
       "       [5],\n",
       "       [7],\n",
       "       [2],\n",
       "       [7],\n",
       "       [4.5],\n",
       "       [None],\n",
       "       [7],\n",
       "       [9.5],\n",
       "       [7.5],\n",
       "       [4.5],\n",
       "       [8],\n",
       "       [5],\n",
       "       [None],\n",
       "       [4],\n",
       "       [7],\n",
       "       [10],\n",
       "       [3.5],\n",
       "       [8.5],\n",
       "       [2.5],\n",
       "       [10],\n",
       "       [9],\n",
       "       [8],\n",
       "       [7.5],\n",
       "       [7],\n",
       "       [10],\n",
       "       [7.5]], dtype=object)"
      ]
     },
     "execution_count": 44,
     "metadata": {},
     "output_type": "execute_result"
    }
   ],
   "source": [
    "Y2 = np.expand_dims(Y1 , axis = 1)\n",
    "Y2"
   ]
  },
  {
   "cell_type": "code",
   "execution_count": 46,
   "metadata": {},
   "outputs": [
    {
     "data": {
      "text/plain": [
       "array([[4.5, 9.5],\n",
       "       [6.0, 6.0],\n",
       "       [7.5, 9.0],\n",
       "       [4.0, 10.0],\n",
       "       [6.5, 5.0],\n",
       "       [7.5, 0.0],\n",
       "       [8.5, 7.5],\n",
       "       [6.0, 8.0],\n",
       "       [5.0, 8.5],\n",
       "       [8.0, 8.0],\n",
       "       [2.0, 4.0],\n",
       "       [5.0, 7.0],\n",
       "       [6.0, 8.0],\n",
       "       [9.0, 8.0],\n",
       "       [5.5, 10.0],\n",
       "       [8.5, 10.0],\n",
       "       [4.0, 4.5],\n",
       "       [None, None],\n",
       "       [4.5, 6.5],\n",
       "       [6, 7.5],\n",
       "       [7, 8],\n",
       "       [8, 3],\n",
       "       [0.5, 3],\n",
       "       [3, 5.5],\n",
       "       [5, 8],\n",
       "       [7, 9.5],\n",
       "       [6, 6],\n",
       "       [4, 9],\n",
       "       [5, 4.5],\n",
       "       [4.5, 5],\n",
       "       [5.5, 7],\n",
       "       [4, 2],\n",
       "       [7, 7],\n",
       "       [None, 4.5],\n",
       "       [4, None],\n",
       "       [2.5, 7],\n",
       "       [9.5, 9.5],\n",
       "       [8, 7.5],\n",
       "       [4, 4.5],\n",
       "       [6, 8],\n",
       "       [7.5, 5],\n",
       "       [None, None],\n",
       "       [10, 4],\n",
       "       [3, 7],\n",
       "       [6.5, 10],\n",
       "       [6, 3.5],\n",
       "       [8.5, 8.5],\n",
       "       [2.5, 2.5],\n",
       "       [7, 10],\n",
       "       [6.5, 9],\n",
       "       [5, 8],\n",
       "       [3, 7.5],\n",
       "       [5, 7],\n",
       "       [7, 10],\n",
       "       [4.5, 7.5]], dtype=object)"
      ]
     },
     "execution_count": 46,
     "metadata": {},
     "output_type": "execute_result"
    }
   ],
   "source": [
    "Z = np.concatenate((X2 , Y2), axis = 1)\n",
    "Z"
   ]
  }
 ],
 "metadata": {
  "kernelspec": {
   "display_name": "Python 3",
   "language": "python",
   "name": "python3"
  },
  "language_info": {
   "codemirror_mode": {
    "name": "ipython",
    "version": 3
   },
   "file_extension": ".py",
   "mimetype": "text/x-python",
   "name": "python",
   "nbconvert_exporter": "python",
   "pygments_lexer": "ipython3",
   "version": "3.12.6"
  }
 },
 "nbformat": 4,
 "nbformat_minor": 2
}
